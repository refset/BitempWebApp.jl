{
 "cells": [
  {
   "cell_type": "code",
   "execution_count": null,
   "metadata": {},
   "outputs": [],
   "source": [
    "ENV[\"GENIE_ENV\"]=\"dev\"\n",
    "push!(LOAD_PATH,\"app/resources/insurancecontracts\")\n",
    "push!(LOAD_PATH,\"app/resources/insurancepartners\")\n",
    "using Pkg\n",
    "Pkg.add(url=\"https://github.com/michaelfliegner/BitemporalPostgres.jl\")\n",
    "import InsuranceContractsController\n",
    "using InsuranceContractsController\n",
    "import InsurancePartnersController\n",
    "using InsurancePartnersController\n",
    "using BitemporalPostgres\n",
    "using SearchLight\n",
    "SearchLight.Configuration.load() |> SearchLight.connect\n",
    "\n",
    "p=Partner()\n",
    "pr=PartnerRevision(description=\"blue\")\n",
    "w=Workflow()\n",
    "create_entity!(w)\n",
    "create_component!(p,pr,w)\n",
    "c=Contract()\n",
    "cr=ContractRevision(description=\"blue\")\n",
    "w=Workflow()\n",
    "create_entity!(w)\n",
    "create_component!(c,cr,w)"
   ]
  }
 ],
 "metadata": {
  "kernelspec": {
   "display_name": "Julia 1.7.1",
   "language": "julia",
   "name": "julia-1.7"
  },
  "language_info": {
   "file_extension": ".jl",
   "mimetype": "application/julia",
   "name": "julia",
   "version": "1.7.1"
  },
  "orig_nbformat": 4
 },
 "nbformat": 4,
 "nbformat_minor": 2
}
