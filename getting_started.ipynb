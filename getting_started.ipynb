{
 "cells": [
  {
   "cell_type": "code",
   "execution_count": 3,
   "metadata": {},
   "outputs": [
    {
     "name": "stderr",
     "output_type": "stream",
     "text": [
      "┌ Info: BEGIN\n",
      "└ @ SearchLightPostgreSQL /home/gitpod/.julia/packages/SearchLightPostgreSQL/QUDiV/src/SearchLightPostgreSQL.jl:134\n",
      "┌ Info: INSERT INTO histories ( \"dummy\" ) VALUES ( 0 ) RETURNING id\n",
      "└ @ SearchLightPostgreSQL /home/gitpod/.julia/packages/SearchLightPostgreSQL/QUDiV/src/SearchLightPostgreSQL.jl:134\n"
     ]
    },
    {
     "name": "stderr",
     "output_type": "stream",
     "text": [
      "┌ Info: SELECT \"histories\".\"id\" AS \"histories_id\", \"histories\".\"dummy\" AS \"histories_dummy\" FROM \"histories\" WHERE \"id\" = 1 ORDER BY histories.id ASC\n",
      "└ @ SearchLightPostgreSQL /home/gitpod/.julia/packages/SearchLightPostgreSQL/QUDiV/src/SearchLightPostgreSQL.jl:134\n"
     ]
    },
    {
     "name": "stderr",
     "output_type": "stream",
     "text": [
      "┌ Info: INSERT INTO versions ( \"ref_history\" ) VALUES ( E'1' ) RETURNING id\n",
      "└ @ SearchLightPostgreSQL /home/gitpod/.julia/packages/SearchLightPostgreSQL/QUDiV/src/SearchLightPostgreSQL.jl:134\n",
      "┌ Info: SELECT \"versions\".\"id\" AS \"versions_id\", \"versions\".\"ref_history\" AS \"versions_ref_history\" FROM \"versions\" WHERE \"id\" = 1 ORDER BY versions.id ASC\n",
      "└ @ SearchLightPostgreSQL /home/gitpod/.julia/packages/SearchLightPostgreSQL/QUDiV/src/SearchLightPostgreSQL.jl:134\n"
     ]
    },
    {
     "name": "stderr",
     "output_type": "stream",
     "text": [
      "┌ Info: INSERT INTO workflows ( \"ref_history\", \"ref_version\", \"tsdb_validfrom\", \"tsw_validfrom\", \"is_committed\" ) VALUES ( E'1', E'1', E'2038-01-19T03:14:06.999+00:00', E'2038-01-19T03:14:06.999+00:00', 0 ) RETURNING id\n",
      "└ @ SearchLightPostgreSQL /home/gitpod/.julia/packages/SearchLightPostgreSQL/QUDiV/src/SearchLightPostgreSQL.jl:134\n",
      "┌ Info: SELECT \"workflows\".\"id\" AS \"workflows_id\", \"workflows\".\"ref_history\" AS \"workflows_ref_history\", \"workflows\".\"ref_version\" AS \"workflows_ref_version\", \"workflows\".\"tsdb_validfrom\" AS \"workflows_tsdb_validfrom\", \"workflows\".\"tsw_validfrom\" AS \"workflows_tsw_validfrom\", \"workflows\".\"is_committed\" AS \"workflows_is_committed\" FROM \"workflows\" WHERE \"id\" = 1 ORDER BY workflows.id ASC\n",
      "└ @ SearchLightPostgreSQL /home/gitpod/.julia/packages/SearchLightPostgreSQL/QUDiV/src/SearchLightPostgreSQL.jl:134\n"
     ]
    },
    {
     "name": "stderr",
     "output_type": "stream",
     "text": [
      "┌ Info: INSERT INTO validityintervals ( \"ref_history\", \"ref_version\", \"tsdb_validfrom\", \"tsworld_validfrom\", \"tsdb_invalidfrom\", \"tsworld_invalidfrom\", \"is_committed\" ) VALUES ( E'1', E'1', E'2022-04-01T18:10:49.780+01:00', E'2038-01-19T03:14:06.999+00:00', E'2038-01-19T03:14:06.999+00:00', E'2038-01-19T03:14:06.999+00:00', 0 ) RETURNING id\n",
      "└ @ SearchLightPostgreSQL /home/gitpod/.julia/packages/SearchLightPostgreSQL/QUDiV/src/SearchLightPostgreSQL.jl:134\n",
      "NOTICE:  NEW: (1,1,1,\"2038-01-19 03:14:06.999+00\",\"2038-01-19 03:14:06.999+00\",\"2022-04-01 17:10:49.78+00\",\"2038-01-19 03:14:06.999+00\",,,0)\n",
      "┌ Info: SELECT \"validityintervals\".\"id\" AS \"validityintervals_id\", \"validityintervals\".\"ref_history\" AS \"validityintervals_ref_history\", \"validityintervals\".\"ref_version\" AS \"validityintervals_ref_version\", \"validityintervals\".\"tsdb_validfrom\" AS \"validityintervals_tsdb_validfrom\", \"validityintervals\".\"tsworld_validfrom\" AS \"validityintervals_tsworld_validfrom\", \"validityintervals\".\"tsdb_invalidfrom\" AS \"validityintervals_tsdb_invalidfrom\", \"validityintervals\".\"tsworld_invalidfrom\" AS \"validityintervals_tsworld_invalidfrom\", \"validityintervals\".\"is_committed\" AS \"validityintervals_is_committed\" FROM \"validityintervals\" WHERE \"id\" = 1 ORDER BY validityintervals.id ASC\n",
      "└ @ SearchLightPostgreSQL /home/gitpod/.julia/packages/SearchLightPostgreSQL/QUDiV/src/SearchLightPostgreSQL.jl:134\n"
     ]
    },
    {
     "name": "stderr",
     "output_type": "stream",
     "text": [
      "┌ Info: COMMIT\n",
      "└ @ SearchLightPostgreSQL /home/gitpod/.julia/packages/SearchLightPostgreSQL/QUDiV/src/SearchLightPostgreSQL.jl:134\n",
      "┌ Info: BEGIN\n",
      "└ @ SearchLightPostgreSQL /home/gitpod/.julia/packages/SearchLightPostgreSQL/QUDiV/src/SearchLightPostgreSQL.jl:134\n"
     ]
    },
    {
     "name": "stderr",
     "output_type": "stream",
     "text": [
      "┌ Info: INSERT INTO partners ( \"ref_history\", \"ref_version\" ) VALUES ( E'1', E'1' ) RETURNING id\n",
      "└ @ SearchLightPostgreSQL /home/gitpod/.julia/packages/SearchLightPostgreSQL/QUDiV/src/SearchLightPostgreSQL.jl:134\n"
     ]
    },
    {
     "name": "stdout",
     "output_type": "stream",
     "text": [
      "\u001b[31m[error | LibPQ]: UndefinedTable: ERROR:  relation \"partners\" does not exist\u001b[39m\n",
      "\u001b[31mLINE 1: INSERT INTO partners ( \"ref_history\", \"ref_version\" ) VALUES...\u001b[39m\n",
      "\u001b[31m                    ^\u001b[39m\n"
     ]
    },
    {
     "ename": "LibPQ.Errors.PQResultError{LibPQ.Errors.Class(0x0000001f), LibPQ.Errors.ErrorCode(0x000000aa)}",
     "evalue": "UndefinedTable: ERROR:  relation \"partners\" does not exist\nLINE 1: INSERT INTO partners ( \"ref_history\", \"ref_version\" ) VALUES...\n                    ^",
     "output_type": "error",
     "traceback": [
      "UndefinedTable: ERROR:  relation \"partners\" does not exist\n",
      "LINE 1: INSERT INTO partners ( \"ref_history\", \"ref_version\" ) VALUES...\n",
      "                    ^\n",
      "\n",
      "Stacktrace:\n",
      "  [1] error(logger::Memento.Logger, exc::LibPQ.Errors.PQResultError{LibPQ.Errors.C42, LibPQ.Errors.E42P01})\n",
      "    @ Memento ~/.julia/packages/Memento/Qk5GZ/src/loggers.jl:458\n",
      "  [2] handle_result(jl_result::LibPQ.Result{false}; throw_error::Bool)\n",
      "    @ LibPQ ~/.julia/packages/LibPQ/qB2gf/src/results.jl:238\n",
      "  [3] _multi_execute(jl_conn::LibPQ.Connection, query::String; throw_error::Bool, kwargs::Base.Iterators.Pairs{Union{}, Union{}, Tuple{}, NamedTuple{(), Tuple{}}})\n",
      "    @ LibPQ ~/.julia/packages/LibPQ/qB2gf/src/results.jl:299\n",
      "  [4] _multi_execute\n",
      "    @ ~/.julia/packages/LibPQ/qB2gf/src/results.jl:295 [inlined]\n",
      "  [5] #execute#51\n",
      "    @ ~/.julia/packages/LibPQ/qB2gf/src/results.jl:288 [inlined]\n",
      "  [6] execute\n",
      "    @ ~/.julia/packages/LibPQ/qB2gf/src/results.jl:285 [inlined]\n",
      "  [7] query(sql::String, conn::LibPQ.Connection)\n",
      "    @ SearchLightPostgreSQL ~/.julia/packages/SearchLightPostgreSQL/QUDiV/src/SearchLightPostgreSQL.jl:135\n",
      "  [8] query\n",
      "    @ ~/.julia/packages/SearchLightPostgreSQL/QUDiV/src/SearchLightPostgreSQL.jl:134 [inlined]\n",
      "  [9] _save!!(m::Partner; conflict_strategy::Symbol, skip_validation::Bool, skip_callbacks::Vector{Symbol})\n",
      "    @ SearchLight ~/.julia/packages/SearchLight/T30SB/src/SearchLight.jl:200\n",
      " [10] save!!(m::Partner; conflict_strategy::Symbol, skip_validation::Bool, skip_callbacks::Vector{Symbol})\n",
      "    @ SearchLight ~/.julia/packages/SearchLight/T30SB/src/SearchLight.jl:164\n",
      " [11] #save!#38\n",
      "    @ ~/.julia/packages/SearchLight/T30SB/src/SearchLight.jl:161 [inlined]\n",
      " [12] save!\n",
      "    @ ~/.julia/packages/SearchLight/T30SB/src/SearchLight.jl:161 [inlined]\n",
      " [13] #12\n",
      "    @ ~/.julia/packages/BitemporalPostgres/It5IY/src/BitemporalPostgres.jl:375 [inlined]\n",
      " [14] transaction(f::BitemporalPostgres.var\"#12#13\"{Partner, PartnerRevision, Workflow})\n",
      "    @ SearchLight.Transactions ~/.julia/packages/SearchLight/T30SB/src/Transactions.jl:20\n",
      " [15] create_component!(c::Partner, cr::PartnerRevision, w::Workflow)\n",
      "    @ BitemporalPostgres ~/.julia/packages/BitemporalPostgres/It5IY/src/BitemporalPostgres.jl:370\n",
      " [16] top-level scope\n",
      "    @ /workspace/BitempWebApp.jl/getting_started.ipynb:15\n",
      " [17] eval\n",
      "    @ ./boot.jl:360 [inlined]\n",
      " [18] include_string(mapexpr::typeof(REPL.softscope), mod::Module, code::String, filename::String)\n",
      "    @ Base ./loading.jl:1116\n",
      " [19] #invokelatest#2\n",
      "    @ ./essentials.jl:708 [inlined]\n",
      " [20] invokelatest\n",
      "    @ ./essentials.jl:706 [inlined]\n",
      " [21] (::VSCodeServer.var\"#155#156\"{VSCodeServer.NotebookRunCellArguments, String})()\n",
      "    @ VSCodeServer /workspace/.vscode-remote/extensions/julialang.language-julia-1.6.11/scripts/packages/VSCodeServer/src/serve_notebook.jl:19\n",
      " [22] withpath(f::VSCodeServer.var\"#155#156\"{VSCodeServer.NotebookRunCellArguments, String}, path::String)\n",
      "    @ VSCodeServer /workspace/.vscode-remote/extensions/julialang.language-julia-1.6.11/scripts/packages/VSCodeServer/src/repl.jl:184\n",
      " [23] notebook_runcell_request(conn::VSCodeServer.JSONRPC.JSONRPCEndpoint{Base.PipeEndpoint, Base.PipeEndpoint}, params::VSCodeServer.NotebookRunCellArguments)\n",
      "    @ VSCodeServer /workspace/.vscode-remote/extensions/julialang.language-julia-1.6.11/scripts/packages/VSCodeServer/src/serve_notebook.jl:13\n",
      " [24] dispatch_msg(x::VSCodeServer.JSONRPC.JSONRPCEndpoint{Base.PipeEndpoint, Base.PipeEndpoint}, dispatcher::VSCodeServer.JSONRPC.MsgDispatcher, msg::Dict{String, Any})\n",
      "    @ VSCodeServer.JSONRPC /workspace/.vscode-remote/extensions/julialang.language-julia-1.6.11/scripts/packages/JSONRPC/src/typed.jl:67\n",
      " [25] serve_notebook(pipename::String, outputchannel_logger::Base.CoreLogging.SimpleLogger; crashreporting_pipename::String)\n",
      "    @ VSCodeServer /workspace/.vscode-remote/extensions/julialang.language-julia-1.6.11/scripts/packages/VSCodeServer/src/serve_notebook.jl:136\n",
      " [26] top-level scope\n",
      "    @ /workspace/.vscode-remote/extensions/julialang.language-julia-1.6.11/scripts/notebook/notebook.jl:22\n",
      " [27] include(mod::Module, _path::String)\n",
      "    @ Base ./Base.jl:384\n",
      " [28] exec_options(opts::Base.JLOptions)\n",
      "    @ Base ./client.jl:285\n",
      " [29] _start()\n",
      "    @ Base ./client.jl:485"
     ]
    }
   ],
   "source": [
    "ENV[\"GENIE_ENV\"]=\"dev\"\n",
    "push!(LOAD_PATH,\"app/resources/insurancecontracts\")\n",
    "push!(LOAD_PATH,\"app/resources/insurancepartners\")\n",
    "using Pkg\n",
    "import InsuranceContractsController\n",
    "using InsuranceContractsController\n",
    "using BitemporalPostgres\n",
    "using SearchLight\n",
    "SearchLight.Configuration.load() |> SearchLight.connect\n",
    "\n",
    "p=Partner()\n",
    "pr=PartnerRevision(description=\"blue\")\n",
    "w=Workflow()\n",
    "create_entity!(w)\n",
    "create_component!(p,pr,w)\n",
    "c=Contract()\n",
    "cr=ContractRevision(description=\"blue\")\n",
    "w=Workflow()\n",
    "create_entity!(w)\n",
    "create_component!(c,cr,w)"
   ]
  }
 ],
 "metadata": {
  "kernelspec": {
   "display_name": "Julia 1.6.5",
   "language": "julia",
   "name": "julia-1.6"
  },
  "language_info": {
   "file_extension": ".jl",
   "mimetype": "application/julia",
   "name": "julia",
   "version": "1.6.5"
  },
  "orig_nbformat": 4
 },
 "nbformat": 4,
 "nbformat_minor": 2
}
