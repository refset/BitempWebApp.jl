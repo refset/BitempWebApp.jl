{
 "cells": [
  {
   "cell_type": "code",
   "execution_count": null,
   "metadata": {},
   "outputs": [],
   "source": [
    "p=Partner()\n",
    "pr=PartnerRevision(description=\"blue\")\n",
    "w=Workflow()\n",
    "createEntity!(p,pr,w)"
   ]
  }
 ],
 "metadata": {
  "language_info": {
   "name": "python"
  },
  "orig_nbformat": 4
 },
 "nbformat": 4,
 "nbformat_minor": 2
}
