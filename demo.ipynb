{
 "cells": [
  {
   "cell_type": "markdown",
   "metadata": {},
   "source": [
    "Initialization"
   ]
  },
  {
   "cell_type": "code",
   "execution_count": null,
   "metadata": {},
   "outputs": [],
   "source": [
    "run(```psql -f sqlsnippets/droptables.sql```)"
   ]
  },
  {
   "cell_type": "code",
   "execution_count": null,
   "metadata": {},
   "outputs": [],
   "source": [
    "push!(LOAD_PATH, \"app/resources/insurancecontracts\")\n",
    "import Base: @kwdef\n",
    "import InsuranceContractsController\n",
    "using Pkg\n",
    "Pkg.add(\"BitemporalPostgres\")\n",
    "Pkg.add(\"HTTP\")\n",
    "Pkg.add(\"JSON\")\n",
    "Pkg.add(\"TimeZones\")\n",
    "Pkg.add(\"ToStruct\")\n",
    "Pkg.add(\"Intervals\")\n",
    "Pkg.add(\"SearchLight\")\n",
    "Pkg.add(\"SearchLightPostgreSQL\")\n",
    "Pkg.add(\"Test\")\n",
    "using Test\n",
    "using InsuranceContractsController.InsuranceContracts\n",
    "using InsuranceContractsController.InsurancePartners\n",
    "using InsuranceContractsController.InsuranceTariffs\n",
    "using BitemporalPostgres\n",
    "using SearchLight\n",
    "using TimeZones\n",
    "using ToStruct\n",
    "using JSON\n",
    "using HTTP\n",
    "using Genie, Genie.Router, Genie.Requests\n",
    "SearchLight.Configuration.load() |> SearchLight.connect\n",
    "SearchLight.Migrations.create_migrations_table()\n",
    "BitemporalPostgres.up()\n",
    "SearchLight.Migrations.up()\n"
   ]
  },
  {
   "cell_type": "markdown",
   "metadata": {},
   "source": [
    "Create Contract blue"
   ]
  },
  {
   "cell_type": "code",
   "execution_count": null,
   "metadata": {},
   "outputs": [],
   "source": [
    "\n",
    "# create Partner\n",
    "p = Partner()\n",
    "pr = PartnerRevision(description=\"blue\")\n",
    "w = Workflow(\n",
    "    tsw_validfrom=ZonedDateTime(2014, 5, 30, 21, 0, 1, 1, tz\"Africa/Porto-Novo\"),\n",
    ")\n",
    "create_entity!(w)\n",
    "create_component!(p, pr, w)\n",
    "commit_workflow!(w)\n",
    "\n",
    "# create Partner\n",
    "p2 = Partner()\n",
    "p2r = PartnerRevision(description=\"blue\")\n",
    "w = Workflow(\n",
    "    tsw_validfrom=ZonedDateTime(2014, 5, 30, 21, 0, 1, 1, tz\"Africa/Porto-Novo\"),\n",
    ")\n",
    "create_entity!(w)\n",
    "create_component!(p2, p2r, w)\n",
    "commit_workflow!(w)\n",
    "\n",
    "# create Tariff\n",
    "t = Tariff()\n",
    "tr = TariffRevision(description=\"blue\")\n",
    "w0 = Workflow(\n",
    "    tsw_validfrom=ZonedDateTime(2014, 5, 30, 21, 0, 1, 1, tz\"Africa/Porto-Novo\"),\n",
    ")\n",
    "create_entity!(w0)\n",
    "create_component!(t, tr, w0)\n",
    "commit_workflow!(w0)\n",
    "\n",
    "# create Contract\n",
    "c = Contract()\n",
    "cr = ContractRevision(description=\"blue\")\n",
    "cpr = ContractPartnerRef(ref_super=c.id)\n",
    "cprr = ContractPartnerRefRevision(ref_partner=p.id, description=\"blue\")\n",
    "\n",
    "cpi = ProductItem(ref_super=c.id)\n",
    "cpir = ProductItemRevision(position=1, description=\"blue\")\n",
    "\n",
    "pitr = ProductItemTariffRef(ref_super=cpi.id)\n",
    "pitrr = ProductItemTariffRefRevision(ref_tariff=t.id, description=\"blue\")\n",
    "\n",
    "pipr = ProductItemPartnerRef(ref_super=cpi.id)\n",
    "piprr = ProductItemPartnerRefRevision(ref_partner=p.id, description=\"blue\")\n",
    "\n",
    "w1 = Workflow(\n",
    "    tsw_validfrom=ZonedDateTime(2014, 5, 30, 21, 0, 1, 1, tz\"Africa/Porto-Novo\"),\n",
    ")\n",
    "create_entity!(w1)\n",
    "create_component!(c, cr, w1)\n",
    "create_subcomponent!(c, cpr, cprr, w1)\n",
    "create_subcomponent!(c, cpi, cpir, w1)\n",
    "create_subcomponent!(cpi, pitr, pitrr, w1)\n",
    "create_subcomponent!(cpi, pipr, piprr, w1)\n",
    "commit_workflow!(w1)\n"
   ]
  },
  {
   "cell_type": "markdown",
   "metadata": {},
   "source": [
    "Update Contract Yellow"
   ]
  },
  {
   "cell_type": "code",
   "execution_count": null,
   "metadata": {},
   "outputs": [],
   "source": [
    "# update Contract yellow\n",
    "\n",
    "    cr1 = ContractRevision(ref_component = c.id, description = \"yellow\")\n",
    "    cp2r = ContractPartnerRef(ref_super=c.id)\n",
    "    cp2rr = ContractPartnerRefRevision(ref_partner=p2.id, description=\"blue\")\n",
    "    w2 = Workflow(\n",
    "        ref_history = w1.ref_history,\n",
    "        tsw_validfrom = ZonedDateTime(2016, 5, 30, 21, 0, 1, 1, tz\"Africa/Porto-Novo\"),\n",
    "    )\n",
    "    update_entity!(w2)\n",
    "    update_component!(cr, cr1, w2)\n",
    "    create_subcomponent!(c, cp2r, cp2rr, w1)\n",
    "    commit_workflow!(w2)\n",
    "    @test w2.ref_history == w1.ref_history\n"
   ]
  },
  {
   "cell_type": "markdown",
   "metadata": {},
   "source": [
    "Contract Update Red"
   ]
  },
  {
   "cell_type": "code",
   "execution_count": 8,
   "metadata": {},
   "outputs": [
    {
     "name": "stderr",
     "output_type": "stream",
     "text": [
      "┌ Info: BEGIN\n",
      "└ @ SearchLightPostgreSQL /home/gitpod/.julia/packages/SearchLightPostgreSQL/QUDiV/src/SearchLightPostgreSQL.jl:134\n",
      "┌ Info: INSERT INTO versions ( \"ref_history\" ) VALUES ( E'4' ) RETURNING id\n",
      "└ @ SearchLightPostgreSQL /home/gitpod/.julia/packages/SearchLightPostgreSQL/QUDiV/src/SearchLightPostgreSQL.jl:134\n",
      "┌ Info: SELECT \"versions\".\"id\" AS \"versions_id\", \"versions\".\"ref_history\" AS \"versions_ref_history\" FROM \"versions\" WHERE \"id\" = 6 ORDER BY versions.id ASC\n",
      "└ @ SearchLightPostgreSQL /home/gitpod/.julia/packages/SearchLightPostgreSQL/QUDiV/src/SearchLightPostgreSQL.jl:134\n",
      "┌ Info: INSERT INTO workflows ( \"ref_history\", \"ref_version\", \"tsdb_validfrom\", \"tsw_validfrom\", \"is_committed\" ) VALUES ( E'4', E'6', E'2038-01-19T03:14:06.999+00:00', E'2015-05-30T21:00:01.001+01:00', 0 ) RETURNING id\n",
      "└ @ SearchLightPostgreSQL /home/gitpod/.julia/packages/SearchLightPostgreSQL/QUDiV/src/SearchLightPostgreSQL.jl:134\n",
      "┌ Info: SELECT \"workflows\".\"id\" AS \"workflows_id\", \"workflows\".\"ref_history\" AS \"workflows_ref_history\", \"workflows\".\"ref_version\" AS \"workflows_ref_version\", \"workflows\".\"tsdb_validfrom\" AS \"workflows_tsdb_validfrom\", \"workflows\".\"tsw_validfrom\" AS \"workflows_tsw_validfrom\", \"workflows\".\"is_committed\" AS \"workflows_is_committed\" FROM \"workflows\" WHERE \"id\" = 6 ORDER BY workflows.id ASC\n",
      "└ @ SearchLightPostgreSQL /home/gitpod/.julia/packages/SearchLightPostgreSQL/QUDiV/src/SearchLightPostgreSQL.jl:134\n",
      "┌ Info: INSERT INTO validityintervals ( \"ref_history\", \"ref_version\", \"tsdb_validfrom\", \"tsworld_validfrom\", \"tsdb_invalidfrom\", \"tsworld_invalidfrom\", \"is_committed\" ) VALUES ( E'4', E'6', E'2022-04-01T18:15:00.465+01:00', E'2015-05-30T20:00:01.001+00:00', E'2038-01-19T03:14:06.999+00:00', E'2038-01-19T03:14:06.999+00:00', 0 ) RETURNING id\n",
      "└ @ SearchLightPostgreSQL /home/gitpod/.julia/packages/SearchLightPostgreSQL/QUDiV/src/SearchLightPostgreSQL.jl:134\n",
      "NOTICE:  NEW: (7,4,6,\"2015-05-30 20:00:01.001+00\",\"2038-01-19 03:14:06.999+00\",\"2022-04-01 17:15:00.465+00\",\"2038-01-19 03:14:06.999+00\",,,0)\n",
      "┌ Info: SELECT \"validityintervals\".\"id\" AS \"validityintervals_id\", \"validityintervals\".\"ref_history\" AS \"validityintervals_ref_history\", \"validityintervals\".\"ref_version\" AS \"validityintervals_ref_version\", \"validityintervals\".\"tsdb_validfrom\" AS \"validityintervals_tsdb_validfrom\", \"validityintervals\".\"tsworld_validfrom\" AS \"validityintervals_tsworld_validfrom\", \"validityintervals\".\"tsdb_invalidfrom\" AS \"validityintervals_tsdb_invalidfrom\", \"validityintervals\".\"tsworld_invalidfrom\" AS \"validityintervals_tsworld_invalidfrom\", \"validityintervals\".\"is_committed\" AS \"validityintervals_is_committed\" FROM \"validityintervals\" WHERE \"id\" = 7 ORDER BY validityintervals.id ASC\n",
      "└ @ SearchLightPostgreSQL /home/gitpod/.julia/packages/SearchLightPostgreSQL/QUDiV/src/SearchLightPostgreSQL.jl:134\n",
      "┌ Info: COMMIT\n",
      "└ @ SearchLightPostgreSQL /home/gitpod/.julia/packages/SearchLightPostgreSQL/QUDiV/src/SearchLightPostgreSQL.jl:134\n",
      "┌ Info: BEGIN\n",
      "└ @ SearchLightPostgreSQL /home/gitpod/.julia/packages/SearchLightPostgreSQL/QUDiV/src/SearchLightPostgreSQL.jl:134\n",
      "┌ Info: UPDATE contractrevisions SET  \"id\" = E'2', \"ref_component\" = E'1', \"ref_validfrom\" = E'5', \"ref_invalidfrom\" = E'6', \"description\" = E'yellow' WHERE contractrevisions.id = '2' RETURNING id\n",
      "└ @ SearchLightPostgreSQL /home/gitpod/.julia/packages/SearchLightPostgreSQL/QUDiV/src/SearchLightPostgreSQL.jl:134\n",
      "NOTICE:  NEW: (2,1,5,6,\"[5,9223372036854775807)\",yellow)\n",
      "┌ Info: SELECT \"contractrevisions\".\"id\" AS \"contractrevisions_id\", \"contractrevisions\".\"ref_component\" AS \"contractrevisions_ref_component\", \"contractrevisions\".\"ref_validfrom\" AS \"contractrevisions_ref_validfrom\", \"contractrevisions\".\"ref_invalidfrom\" AS \"contractrevisions_ref_invalidfrom\", \"contractrevisions\".\"description\" AS \"contractrevisions_description\" FROM \"contractrevisions\" WHERE \"id\" = 2 ORDER BY contractrevisions.id ASC\n",
      "└ @ SearchLightPostgreSQL /home/gitpod/.julia/packages/SearchLightPostgreSQL/QUDiV/src/SearchLightPostgreSQL.jl:134\n",
      "┌ Info: INSERT INTO contractrevisions ( \"ref_component\", \"ref_validfrom\", \"ref_invalidfrom\", \"description\" ) VALUES ( E'1', E'6', E'9223372036854775807', E'red' ) RETURNING id\n",
      "└ @ SearchLightPostgreSQL /home/gitpod/.julia/packages/SearchLightPostgreSQL/QUDiV/src/SearchLightPostgreSQL.jl:134\n",
      "NOTICE:  NEW: (3,1,6,9223372036854775807,,red)\n",
      "┌ Info: SELECT \"contractrevisions\".\"id\" AS \"contractrevisions_id\", \"contractrevisions\".\"ref_component\" AS \"contractrevisions_ref_component\", \"contractrevisions\".\"ref_validfrom\" AS \"contractrevisions_ref_validfrom\", \"contractrevisions\".\"ref_invalidfrom\" AS \"contractrevisions_ref_invalidfrom\", \"contractrevisions\".\"description\" AS \"contractrevisions_description\" FROM \"contractrevisions\" WHERE \"id\" = 3 ORDER BY contractrevisions.id ASC\n",
      "└ @ SearchLightPostgreSQL /home/gitpod/.julia/packages/SearchLightPostgreSQL/QUDiV/src/SearchLightPostgreSQL.jl:134\n",
      "┌ Info: COMMIT\n",
      "└ @ SearchLightPostgreSQL /home/gitpod/.julia/packages/SearchLightPostgreSQL/QUDiV/src/SearchLightPostgreSQL.jl:134\n",
      "┌ Info: BEGIN\n",
      "└ @ SearchLightPostgreSQL /home/gitpod/.julia/packages/SearchLightPostgreSQL/QUDiV/src/SearchLightPostgreSQL.jl:134\n",
      "┌ Info: SELECT \"validityintervals\".\"id\" AS \"validityintervals_id\", \"validityintervals\".\"ref_history\" AS \"validityintervals_ref_history\", \"validityintervals\".\"ref_version\" AS \"validityintervals_ref_version\", \"validityintervals\".\"tsdb_validfrom\" AS \"validityintervals_tsdb_validfrom\", \"validityintervals\".\"tsworld_validfrom\" AS \"validityintervals_tsworld_validfrom\", \"validityintervals\".\"tsdb_invalidfrom\" AS \"validityintervals_tsdb_invalidfrom\", \"validityintervals\".\"tsworld_invalidfrom\" AS \"validityintervals_tsworld_invalidfrom\", \"validityintervals\".\"is_committed\" AS \"validityintervals_is_committed\" FROM \"validityintervals\" WHERE ref_version = E'6' AND is_committed = 0 ORDER BY validityintervals.id ASC\n",
      "└ @ SearchLightPostgreSQL /home/gitpod/.julia/packages/SearchLightPostgreSQL/QUDiV/src/SearchLightPostgreSQL.jl:134\n",
      "┌ Info: SELECT \"validityintervals\".\"id\" AS \"validityintervals_id\", \"validityintervals\".\"ref_history\" AS \"validityintervals_ref_history\", \"validityintervals\".\"ref_version\" AS \"validityintervals_ref_version\", \"validityintervals\".\"tsdb_validfrom\" AS \"validityintervals_tsdb_validfrom\", \"validityintervals\".\"tsworld_validfrom\" AS \"validityintervals_tsworld_validfrom\", \"validityintervals\".\"tsdb_invalidfrom\" AS \"validityintervals_tsdb_invalidfrom\", \"validityintervals\".\"tsworld_invalidfrom\" AS \"validityintervals_tsworld_invalidfrom\", \"validityintervals\".\"is_committed\" AS \"validityintervals_is_committed\" FROM \"validityintervals\" WHERE ref_history = E'4' AND tsrdb @> TIMESTAMPTZ E'2038-01-18T03:14:06.999+00:00' AND tsrworld <@ tstzrange(E'2015-05-31T20:00:01.001+00:00',E'2038-01-19T03:14:06.999+00:00') AND is_committed=1 ORDER BY validityintervals.id ASC\n",
      "└ @ SearchLightPostgreSQL /home/gitpod/.julia/packages/SearchLightPostgreSQL/QUDiV/src/SearchLightPostgreSQL.jl:134\n",
      "┌ Info: UPDATE validityintervals SET  \"id\" = E'5', \"ref_history\" = E'4', \"ref_version\" = E'5', \"tsdb_validfrom\" = E'2022-04-01T17:13:55.457+00:00', \"tsworld_validfrom\" = E'2016-05-30T20:00:01.001+00:00', \"tsdb_invalidfrom\" = E'2022-04-01T18:15:00.472+01:00', \"tsworld_invalidfrom\" = E'2038-01-19T03:14:06.999+00:00', \"is_committed\" = 1 WHERE validityintervals.id = '5' RETURNING id\n",
      "└ @ SearchLightPostgreSQL /home/gitpod/.julia/packages/SearchLightPostgreSQL/QUDiV/src/SearchLightPostgreSQL.jl:134\n",
      "NOTICE:  NEW: (5,4,5,\"2016-05-30 20:00:01.001+00\",\"2038-01-19 03:14:06.999+00\",\"2022-04-01 17:13:55.457+00\",\"2022-04-01 17:15:00.472+00\",\"[\"\"2016-05-30 20:00:01.001+00\"\",\"\"2038-01-19 03:14:06.999+00\"\")\",\"[\"\"2022-04-01 17:13:55.457+00\"\",\"\"2038-01-19 03:14:06.999+00\"\")\",1)\n",
      "┌ Info: SELECT \"validityintervals\".\"id\" AS \"validityintervals_id\", \"validityintervals\".\"ref_history\" AS \"validityintervals_ref_history\", \"validityintervals\".\"ref_version\" AS \"validityintervals_ref_version\", \"validityintervals\".\"tsdb_validfrom\" AS \"validityintervals_tsdb_validfrom\", \"validityintervals\".\"tsworld_validfrom\" AS \"validityintervals_tsworld_validfrom\", \"validityintervals\".\"tsdb_invalidfrom\" AS \"validityintervals_tsdb_invalidfrom\", \"validityintervals\".\"tsworld_invalidfrom\" AS \"validityintervals_tsworld_invalidfrom\", \"validityintervals\".\"is_committed\" AS \"validityintervals_is_committed\" FROM \"validityintervals\" WHERE \"id\" = 5 ORDER BY validityintervals.id ASC\n",
      "└ @ SearchLightPostgreSQL /home/gitpod/.julia/packages/SearchLightPostgreSQL/QUDiV/src/SearchLightPostgreSQL.jl:134\n",
      "┌ Info: SELECT \"validityintervals\".\"id\" AS \"validityintervals_id\", \"validityintervals\".\"ref_history\" AS \"validityintervals_ref_history\", \"validityintervals\".\"ref_version\" AS \"validityintervals_ref_version\", \"validityintervals\".\"tsdb_validfrom\" AS \"validityintervals_tsdb_validfrom\", \"validityintervals\".\"tsworld_validfrom\" AS \"validityintervals_tsworld_validfrom\", \"validityintervals\".\"tsdb_invalidfrom\" AS \"validityintervals_tsdb_invalidfrom\", \"validityintervals\".\"tsworld_invalidfrom\" AS \"validityintervals_tsworld_invalidfrom\", \"validityintervals\".\"is_committed\" AS \"validityintervals_is_committed\" FROM \"validityintervals\" WHERE ref_history = E'4' AND tsrdb @> TIMESTAMPTZ E'2038-01-18T03:14:06.999+00:00' AND tsrworld && tstzrange(E'2015-05-31T20:00:01.001+00:00',E'2038-01-19T03:14:06.999+00:00') AND is_committed=1 ORDER BY validityintervals.id ASC\n",
      "└ @ SearchLightPostgreSQL /home/gitpod/.julia/packages/SearchLightPostgreSQL/QUDiV/src/SearchLightPostgreSQL.jl:134\n",
      "┌ Info: UPDATE validityintervals SET  \"id\" = E'6', \"ref_history\" = E'4', \"ref_version\" = E'4', \"tsdb_validfrom\" = E'2022-04-01T17:13:55.457+00:00', \"tsworld_validfrom\" = E'2014-05-30T20:00:01.001+00:00', \"tsdb_invalidfrom\" = E'2022-04-01T18:15:00.472+01:00', \"tsworld_invalidfrom\" = E'2016-05-30T20:00:01.001+00:00', \"is_committed\" = 1 WHERE validityintervals.id = '6' RETURNING id\n",
      "└ @ SearchLightPostgreSQL /home/gitpod/.julia/packages/SearchLightPostgreSQL/QUDiV/src/SearchLightPostgreSQL.jl:134\n",
      "NOTICE:  NEW: (6,4,4,\"2014-05-30 20:00:01.001+00\",\"2016-05-30 20:00:01.001+00\",\"2022-04-01 17:13:55.457+00\",\"2022-04-01 17:15:00.472+00\",\"[\"\"2014-05-30 20:00:01.001+00\"\",\"\"2016-05-30 20:00:01.001+00\"\")\",\"[\"\"2022-04-01 17:13:55.457+00\"\",\"\"2038-01-19 03:14:06.999+00\"\")\",1)\n",
      "┌ Info: SELECT \"validityintervals\".\"id\" AS \"validityintervals_id\", \"validityintervals\".\"ref_history\" AS \"validityintervals_ref_history\", \"validityintervals\".\"ref_version\" AS \"validityintervals_ref_version\", \"validityintervals\".\"tsdb_validfrom\" AS \"validityintervals_tsdb_validfrom\", \"validityintervals\".\"tsworld_validfrom\" AS \"validityintervals_tsworld_validfrom\", \"validityintervals\".\"tsdb_invalidfrom\" AS \"validityintervals_tsdb_invalidfrom\", \"validityintervals\".\"tsworld_invalidfrom\" AS \"validityintervals_tsworld_invalidfrom\", \"validityintervals\".\"is_committed\" AS \"validityintervals_is_committed\" FROM \"validityintervals\" WHERE \"id\" = 6 ORDER BY validityintervals.id ASC\n",
      "└ @ SearchLightPostgreSQL /home/gitpod/.julia/packages/SearchLightPostgreSQL/QUDiV/src/SearchLightPostgreSQL.jl:134\n"
     ]
    },
    {
     "name": "stderr",
     "output_type": "stream",
     "text": [
      "┌ Info: INSERT INTO validityintervals ( \"ref_history\", \"ref_version\", \"tsdb_validfrom\", \"tsworld_validfrom\", \"tsdb_invalidfrom\", \"tsworld_invalidfrom\", \"is_committed\" ) VALUES ( E'4', E'4', E'2022-04-01T18:15:00.472+01:00', E'2014-05-30T20:00:01.001+00:00', E'2038-01-19T03:14:06.999+00:00', E'2015-05-30T20:00:01.001+00:00', 1 ) RETURNING id\n",
      "└ @ SearchLightPostgreSQL /home/gitpod/.julia/packages/SearchLightPostgreSQL/QUDiV/src/SearchLightPostgreSQL.jl:134\n",
      "NOTICE:  NEW: (8,4,4,\"2014-05-30 20:00:01.001+00\",\"2015-05-30 20:00:01.001+00\",\"2022-04-01 17:15:00.472+00\",\"2038-01-19 03:14:06.999+00\",,,1)\n",
      "┌ Info: SELECT \"validityintervals\".\"id\" AS \"validityintervals_id\", \"validityintervals\".\"ref_history\" AS \"validityintervals_ref_history\", \"validityintervals\".\"ref_version\" AS \"validityintervals_ref_version\", \"validityintervals\".\"tsdb_validfrom\" AS \"validityintervals_tsdb_validfrom\", \"validityintervals\".\"tsworld_validfrom\" AS \"validityintervals_tsworld_validfrom\", \"validityintervals\".\"tsdb_invalidfrom\" AS \"validityintervals_tsdb_invalidfrom\", \"validityintervals\".\"tsworld_invalidfrom\" AS \"validityintervals_tsworld_invalidfrom\", \"validityintervals\".\"is_committed\" AS \"validityintervals_is_committed\" FROM \"validityintervals\" WHERE \"id\" = 8 ORDER BY validityintervals.id ASC\n",
      "└ @ SearchLightPostgreSQL /home/gitpod/.julia/packages/SearchLightPostgreSQL/QUDiV/src/SearchLightPostgreSQL.jl:134\n",
      "┌ Info: UPDATE validityintervals SET  \"id\" = E'7', \"ref_history\" = E'4', \"ref_version\" = E'6', \"tsdb_validfrom\" = E'2022-04-01T18:15:00.472+01:00', \"tsworld_validfrom\" = E'2015-05-30T20:00:01.001+00:00', \"tsdb_invalidfrom\" = E'2038-01-19T03:14:06.999+00:00', \"tsworld_invalidfrom\" = E'2038-01-19T03:14:06.999+00:00', \"is_committed\" = 1 WHERE validityintervals.id = '7' RETURNING id\n",
      "└ @ SearchLightPostgreSQL /home/gitpod/.julia/packages/SearchLightPostgreSQL/QUDiV/src/SearchLightPostgreSQL.jl:134\n",
      "NOTICE:  NEW: (7,4,6,\"2015-05-30 20:00:01.001+00\",\"2038-01-19 03:14:06.999+00\",\"2022-04-01 17:15:00.472+00\",\"2038-01-19 03:14:06.999+00\",\"[\"\"2015-05-30 20:00:01.001+00\"\",\"\"2038-01-19 03:14:06.999+00\"\")\",\"[\"\"2022-04-01 17:15:00.465+00\"\",\"\"2038-01-19 03:14:06.999+00\"\")\",1)\n",
      "┌ Info: SELECT \"validityintervals\".\"id\" AS \"validityintervals_id\", \"validityintervals\".\"ref_history\" AS \"validityintervals_ref_history\", \"validityintervals\".\"ref_version\" AS \"validityintervals_ref_version\", \"validityintervals\".\"tsdb_validfrom\" AS \"validityintervals_tsdb_validfrom\", \"validityintervals\".\"tsworld_validfrom\" AS \"validityintervals_tsworld_validfrom\", \"validityintervals\".\"tsdb_invalidfrom\" AS \"validityintervals_tsdb_invalidfrom\", \"validityintervals\".\"tsworld_invalidfrom\" AS \"validityintervals_tsworld_invalidfrom\", \"validityintervals\".\"is_committed\" AS \"validityintervals_is_committed\" FROM \"validityintervals\" WHERE \"id\" = 7 ORDER BY validityintervals.id ASC\n",
      "└ @ SearchLightPostgreSQL /home/gitpod/.julia/packages/SearchLightPostgreSQL/QUDiV/src/SearchLightPostgreSQL.jl:134\n"
     ]
    },
    {
     "name": "stderr",
     "output_type": "stream",
     "text": [
      "┌ Info: UPDATE workflows SET  \"id\" = E'6', \"ref_history\" = E'4', \"ref_version\" = E'6', \"tsdb_validfrom\" = E'2022-04-01T18:15:00.472+01:00', \"tsw_validfrom\" = E'2015-05-30T20:00:01.001+00:00', \"is_committed\" = 1 WHERE workflows.id = '6' RETURNING id\n",
      "└ @ SearchLightPostgreSQL /home/gitpod/.julia/packages/SearchLightPostgreSQL/QUDiV/src/SearchLightPostgreSQL.jl:134\n",
      "┌ Info: SELECT \"workflows\".\"id\" AS \"workflows_id\", \"workflows\".\"ref_history\" AS \"workflows_ref_history\", \"workflows\".\"ref_version\" AS \"workflows_ref_version\", \"workflows\".\"tsdb_validfrom\" AS \"workflows_tsdb_validfrom\", \"workflows\".\"tsw_validfrom\" AS \"workflows_tsw_validfrom\", \"workflows\".\"is_committed\" AS \"workflows_is_committed\" FROM \"workflows\" WHERE \"id\" = 6 ORDER BY workflows.id ASC\n",
      "└ @ SearchLightPostgreSQL /home/gitpod/.julia/packages/SearchLightPostgreSQL/QUDiV/src/SearchLightPostgreSQL.jl:134\n",
      "┌ Info: COMMIT\n",
      "└ @ SearchLightPostgreSQL /home/gitpod/.julia/packages/SearchLightPostgreSQL/QUDiV/src/SearchLightPostgreSQL.jl:134\n"
     ]
    },
    {
     "data": {
      "text/plain": [
       "\u001b[32m\u001b[1mTest Passed\u001b[22m\u001b[39m"
      ]
     },
     "metadata": {},
     "output_type": "display_data"
    }
   ],
   "source": [
    "cr2 = ContractRevision(ref_component = c.id, description = \"red\")\n",
    "w3 = Workflow(\n",
    "    ref_history = w2.ref_history,\n",
    "    tsw_validfrom = ZonedDateTime(2015, 5, 30, 21, 0, 1, 1, tz\"Africa/Porto-Novo\"),\n",
    ")\n",
    "update_entity!(w3)\n",
    "update_component!(cr1, cr2, w3)\n",
    "commit_workflow!(w3)\n",
    "@test w3.ref_history == w2.ref_history\n",
    "\n",
    "# end of mutations"
   ]
  }
 ],
 "metadata": {
  "kernelspec": {
   "display_name": "Julia 1.6.5",
   "language": "julia",
   "name": "julia-1.6"
  },
  "language_info": {
   "file_extension": ".jl",
   "mimetype": "application/julia",
   "name": "julia",
   "version": "1.6.5"
  },
  "orig_nbformat": 4
 },
 "nbformat": 4,
 "nbformat_minor": 2
}
