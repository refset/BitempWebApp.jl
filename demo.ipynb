{
 "cells": [
  {
   "cell_type": "markdown",
   "metadata": {},
   "source": [
    "Initialization"
   ]
  },
  {
   "cell_type": "code",
   "execution_count": null,
   "metadata": {},
   "outputs": [],
   "source": [
    "run(```psql -f sqlsnippets/droptables.sql```)"
   ]
  },
  {
   "cell_type": "code",
   "execution_count": null,
   "metadata": {},
   "outputs": [],
   "source": [
    "push!(LOAD_PATH, \"app/resources/insurancecontracts\")\n",
    "import Base: @kwdef\n",
    "import InsuranceContractsController\n",
    "using Pkg\n",
    "Pkg.add(\"BitemporalPostgres\")\n",
    "Pkg.add(\"HTTP\")\n",
    "Pkg.add(\"JSON\")\n",
    "Pkg.add(\"TimeZones\")\n",
    "Pkg.add(\"ToStruct\")\n",
    "Pkg.add(\"Intervals\")\n",
    "Pkg.add(\"SearchLight\")\n",
    "Pkg.add(\"SearchLightPostgreSQL\")\n",
    "Pkg.add(\"Test\")\n",
    "using Test\n",
    "using InsuranceContractsController.InsuranceContracts\n",
    "using InsuranceContractsController.InsurancePartners\n",
    "using InsuranceContractsController.InsuranceTariffs\n",
    "using BitemporalPostgres\n",
    "using SearchLight\n",
    "using TimeZones\n",
    "using ToStruct\n",
    "using JSON\n",
    "using HTTP\n",
    "using Genie, Genie.Router, Genie.Requests\n",
    "SearchLight.Configuration.load() |> SearchLight.connect\n",
    "SearchLight.Migrations.create_migrations_table()\n",
    "BitemporalPostgres.up()\n",
    "SearchLight.Migrations.up()\n"
   ]
  },
  {
   "cell_type": "markdown",
   "metadata": {},
   "source": [
    "Create Contract blue"
   ]
  },
  {
   "cell_type": "code",
   "execution_count": null,
   "metadata": {},
   "outputs": [],
   "source": [
    "\n",
    "# create Partner\n",
    "p = Partner()\n",
    "pr = PartnerRevision(description=\"blue\")\n",
    "w = Workflow(\n",
    "    tsw_validfrom=ZonedDateTime(2014, 5, 30, 21, 0, 1, 1, tz\"Africa/Porto-Novo\"),\n",
    ")\n",
    "create_entity!(w)\n",
    "create_component!(p, pr, w)\n",
    "commit_workflow!(w)\n",
    "\n",
    "# create Partner\n",
    "p2 = Partner()\n",
    "p2r = PartnerRevision(description=\"blue\")\n",
    "w = Workflow(\n",
    "    tsw_validfrom=ZonedDateTime(2014, 5, 30, 21, 0, 1, 1, tz\"Africa/Porto-Novo\"),\n",
    ")\n",
    "create_entity!(w)\n",
    "create_component!(p2, p2r, w)\n",
    "commit_workflow!(w)\n",
    "\n",
    "# create Tariff\n",
    "t = Tariff()\n",
    "tr = TariffRevision(description=\"blue\")\n",
    "w0 = Workflow(\n",
    "    tsw_validfrom=ZonedDateTime(2014, 5, 30, 21, 0, 1, 1, tz\"Africa/Porto-Novo\"),\n",
    ")\n",
    "create_entity!(w0)\n",
    "create_component!(t, tr, w0)\n",
    "commit_workflow!(w0)\n",
    "\n",
    "# create Contract\n",
    "c = Contract()\n",
    "cr = ContractRevision(description=\"blue\")\n",
    "cpr = ContractPartnerRef(ref_super=c.id)\n",
    "cprr = ContractPartnerRefRevision(ref_partner=p.id, description=\"blue\")\n",
    "\n",
    "cpi = ProductItem(ref_super=c.id)\n",
    "cpir = ProductItemRevision(position=1, description=\"blue\")\n",
    "\n",
    "pitr = ProductItemTariffRef(ref_super=cpi.id)\n",
    "pitrr = ProductItemTariffRefRevision(ref_tariff=t.id, description=\"blue\")\n",
    "\n",
    "pipr = ProductItemPartnerRef(ref_super=cpi.id)\n",
    "piprr = ProductItemPartnerRefRevision(ref_partner=p.id, description=\"blue\")\n",
    "\n",
    "w1 = Workflow(\n",
    "    tsw_validfrom=ZonedDateTime(2014, 5, 30, 21, 0, 1, 1, tz\"Africa/Porto-Novo\"),\n",
    ")\n",
    "create_entity!(w1)\n",
    "create_component!(c, cr, w1)\n",
    "create_subcomponent!(c, cpr, cprr, w1)\n",
    "create_subcomponent!(c, cpi, cpir, w1)\n",
    "create_subcomponent!(cpi, pitr, pitrr, w1)\n",
    "create_subcomponent!(cpi, pipr, piprr, w1)\n",
    "commit_workflow!(w1)\n"
   ]
  },
  {
   "cell_type": "markdown",
   "metadata": {},
   "source": [
    "Update Contract Yellow"
   ]
  },
  {
   "cell_type": "code",
   "execution_count": null,
   "metadata": {},
   "outputs": [],
   "source": [
    "# update Contract yellow\n",
    "\n",
    "    cr1 = ContractRevision(ref_component = c.id, description = \"yellow\")\n",
    "    cp2r = ContractPartnerRef(ref_super=c.id)\n",
    "    cp2rr = ContractPartnerRefRevision(ref_partner=p2.id, description=\"blue\")\n",
    "    w2 = Workflow(\n",
    "        ref_history = w1.ref_history,\n",
    "        tsw_validfrom = ZonedDateTime(2016, 5, 30, 21, 0, 1, 1, tz\"Africa/Porto-Novo\"),\n",
    "    )\n",
    "    update_entity!(w2)\n",
    "    update_component!(cr, cr1, w2)\n",
    "    create_subcomponent!(c, cp2r, cp2rr, w1)\n",
    "    commit_workflow!(w2)\n",
    "    @test w2.ref_history == w1.ref_history\n"
   ]
  },
  {
   "cell_type": "code",
   "execution_count": null,
   "metadata": {},
   "outputs": [],
   "source": [
    "Contract Update Red"
   ]
  },
  {
   "cell_type": "code",
   "execution_count": null,
   "metadata": {},
   "outputs": [],
   "source": [
    "cr2 = ContractRevision(ref_component = c.id, description = \"red\")\n",
    "w3 = Workflow(\n",
    "    ref_history = w2.ref_history,\n",
    "    tsw_validfrom = ZonedDateTime(2015, 5, 30, 21, 0, 1, 1, tz\"Africa/Porto-Novo\"),\n",
    ")\n",
    "update_entity!(w3)\n",
    "update_component!(cr1, cr2, w3)\n",
    "commit_workflow!(w3)\n",
    "@test w3.ref_history == w2.ref_history\n",
    "\n",
    "# end of mutations"
   ]
  }
 ],
 "metadata": {
  "kernelspec": {
   "display_name": "Julia 1.6.5",
   "language": "julia",
   "name": "julia-1.6"
  },
  "language_info": {
   "file_extension": ".jl",
   "mimetype": "application/julia",
   "name": "julia",
   "version": "1.6.5"
  },
  "orig_nbformat": 4
 },
 "nbformat": 4,
 "nbformat_minor": 2
}
